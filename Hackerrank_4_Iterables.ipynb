{
 "cells": [
  {
   "cell_type": "markdown",
   "metadata": {},
   "source": [
    "Refer problem statement on : https://www.hackerrank.com/challenges/iterables-and-iterators/problem"
   ]
  },
  {
   "cell_type": "code",
   "execution_count": null,
   "metadata": {},
   "outputs": [],
   "source": [
    "import itertools\n",
    "n = int(input())\n",
    "seq = input().split()\n",
    "k = int(input())\n",
    "\n",
    "comb = list(itertools.combinations(seq,k))\n",
    "#print(comb)\n",
    "count = 0\n",
    "\n",
    "for tup in comb:\n",
    "    if 'a' in tup:\n",
    "        count += 1\n",
    "\n",
    "print(count/len(comb))"
   ]
  }
 ],
 "metadata": {
  "kernelspec": {
   "display_name": "Python 3",
   "language": "python",
   "name": "python3"
  },
  "language_info": {
   "codemirror_mode": {
    "name": "ipython",
    "version": 3
   },
   "file_extension": ".py",
   "mimetype": "text/x-python",
   "name": "python",
   "nbconvert_exporter": "python",
   "pygments_lexer": "ipython3",
   "version": "3.7.4"
  }
 },
 "nbformat": 4,
 "nbformat_minor": 4
}
