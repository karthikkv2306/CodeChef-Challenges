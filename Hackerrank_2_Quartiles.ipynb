{
 "cells": [
  {
   "cell_type": "markdown",
   "metadata": {},
   "source": [
    "Objective\n",
    "In this challenge, we practice calculating quartiles.\n",
    "\n",
    "<img src = \"Quartiles_Question.png\">"
   ]
  },
  {
   "cell_type": "code",
   "execution_count": null,
   "metadata": {},
   "outputs": [],
   "source": [
    "# Enter your code here. Read input from STDIN. Print output to STDOUT\n",
    "import math\n",
    "\n",
    "def get_median(nums):\n",
    "    n = len(nums)\n",
    "    if(n%2!=0):\n",
    "        idx = int(math.ceil(n/2))\n",
    "        q2 = nums[idx-1]\n",
    "    else:\n",
    "        idx = int(n/2)\n",
    "        q2 = int((nums[idx-1]+nums[idx])/2)\n",
    "\n",
    "    return q2\n",
    "\n",
    "\n",
    "n = int(input())\n",
    "nums = list(int(x) for x in input().split())\n",
    "nums = sorted(nums)\n",
    "\n",
    "q2 = get_median(nums)\n",
    "\n",
    "if (n%2) == 0:\n",
    "    q1 = get_median(nums[0:int((n/2)+1)])\n",
    "    q3 = get_median(nums[int((n/2)):])\n",
    "else:\n",
    "    q1 = get_median(nums[0:int(math.ceil(n/2)-1)])\n",
    "    q3 = get_median(nums[int(math.ceil(n/2)):])   \n",
    "\n",
    "\n",
    "print(q1)\n",
    "print(q2)\n",
    "print(q3)"
   ]
  }
 ],
 "metadata": {
  "kernelspec": {
   "display_name": "Python 3",
   "language": "python",
   "name": "python3"
  },
  "language_info": {
   "codemirror_mode": {
    "name": "ipython",
    "version": 3
   },
   "file_extension": ".py",
   "mimetype": "text/x-python",
   "name": "python",
   "nbconvert_exporter": "python",
   "pygments_lexer": "ipython3",
   "version": "3.7.4"
  }
 },
 "nbformat": 4,
 "nbformat_minor": 4
}
