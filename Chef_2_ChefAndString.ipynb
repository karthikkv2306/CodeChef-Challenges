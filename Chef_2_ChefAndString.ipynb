{
 "cells": [
  {
   "cell_type": "markdown",
   "metadata": {},
   "source": [
    "There are N students standing in a row and numbered 1 through N from left to right. You are given a string S with length N, where for each valid i, the i-th character of S is 'x' if the i-th student is a girl or 'y' if this student is a boy. Students standing next to each other in the row are friends.\n",
    "\n",
    "The students are asked to form pairs for a dance competition. Each pair must consist of a boy and a girl. Two students can only form a pair if they are friends. Each student can only be part of at most one pair. What is the maximum number of pairs that can be formed?\n",
    "\n",
    "Input\n",
    "The first line of the input contains a single integer T denoting the number of test cases. The description of T test cases follows.\n",
    "The first and only line of each test case contains a single string S.\n",
    "Output\n",
    "For each test case, print a single line containing one integer ― the maximum number of pairs.\n",
    "\n",
    "Constraints\n",
    "1≤T≤100\n",
    "1≤N≤105\n",
    "|S|=N\n",
    "S contains only characters 'x' and 'y'\n",
    "the sum of N over all test cases does not exceed 3⋅105\n",
    "Subtasks\n",
    "Subtask #1 (100 points): original constraints\n",
    "\n",
    "Example Input\n",
    "3\n",
    "xy\n",
    "xyxxy\n",
    "yy\n",
    "Example Output\n",
    "1\n",
    "2\n",
    "0\n",
    "\n",
    "\n",
    "Explanation\n",
    "Example case 1: There is only one possible pair: (first student, second student).\n",
    "\n",
    "Example case 2: One of the ways to form two pairs is: (first student, second student) and (fourth student, fifth student).\n",
    "\n",
    "Another way to form two pairs is: (second student, third student) and (fourth student, fifth student)."
   ]
  },
  {
   "cell_type": "code",
   "execution_count": null,
   "metadata": {},
   "outputs": [],
   "source": [
    "\n",
    "test_count = int(input())\n",
    "count = []\n",
    "for i in range(test_count):\n",
    "    sequence = input()\n",
    "    prev_letter = sequence[0]\n",
    "    pairs = 0\n",
    "    iterator = 1\n",
    "    while(iterator<len(sequence)):\n",
    "        if sequence[iterator]!= prev_letter:\n",
    "            pairs+=1\n",
    "            if((iterator+1)>=len(sequence)):\n",
    "                break\n",
    "            else:\n",
    "                prev_letter = sequence[iterator+1]\n",
    "                iterator+=2\n",
    "        else:\n",
    "            prev_letter = sequence[iterator]\n",
    "            iterator += 1\n",
    "    count.append(pairs)\n",
    "\n",
    "for i in count:\n",
    "    print(i)\n",
    "    print(\"\\n\")"
   ]
  },
  {
   "cell_type": "code",
   "execution_count": null,
   "metadata": {},
   "outputs": [],
   "source": []
  }
 ],
 "metadata": {
  "kernelspec": {
   "display_name": "Python 3",
   "language": "python",
   "name": "python3"
  },
  "language_info": {
   "codemirror_mode": {
    "name": "ipython",
    "version": 3
   },
   "file_extension": ".py",
   "mimetype": "text/x-python",
   "name": "python",
   "nbconvert_exporter": "python",
   "pygments_lexer": "ipython3",
   "version": "3.7.4"
  }
 },
 "nbformat": 4,
 "nbformat_minor": 4
}
