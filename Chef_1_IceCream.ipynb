{
 "cells": [
  {
   "cell_type": "markdown",
   "metadata": {},
   "source": []
  },
  {
   "cell_type": "code",
   "execution_count": null,
   "metadata": {},
   "outputs": [],
   "source": []
  },
  {
   "cell_type": "code",
   "execution_count": null,
   "metadata": {},
   "outputs": [],
   "source": [
    "def main():\n",
    "    test_cases = int(input())\n",
    "    results = []\n",
    "    \n",
    "    for i in range(test_cases):\n",
    "        n = int(input())\n",
    "        input_queue = input()\n",
    "        results.append(check_out(input_queue))\n",
    "    \n",
    "    for result in results:\n",
    "        print(result + \"\\n\")"
   ]
  },
  {
   "cell_type": "code",
   "execution_count": 14,
   "metadata": {},
   "outputs": [],
   "source": [
    "def check_out(input_queue):\n",
    "    fives_count = 0\n",
    "    tens_count = 0\n",
    "    input_queue = list(int(x) for x in input_queue.split())\n",
    "    flag = \"YES\"\n",
    "    for curr in input_queue:\n",
    "        if curr == 5:\n",
    "            fives_count += 1\n",
    "        elif curr == 10:\n",
    "            if fives_count == 0:\n",
    "                flag = \"NO\"\n",
    "                break\n",
    "            else:\n",
    "                fives_count -= 1\n",
    "                tens_count += 1\n",
    "        elif curr == 15:\n",
    "            if fives_count <= 1 and tens_count == 0:\n",
    "                flag = \"NO\"\n",
    "                break\n",
    "            elif fives_count >= 2 and tens_count == 0:\n",
    "                fives_count -= 2\n",
    "            elif tens_count != 0:\n",
    "                tens_count -= 1\n",
    "    \n",
    "    return flag"
   ]
  },
  {
   "cell_type": "code",
   "execution_count": 15,
   "metadata": {},
   "outputs": [
    {
     "name": "stdin",
     "output_type": "stream",
     "text": [
      " 2\n",
      " 3\n",
      " 5 10 5\n",
      " 2\n",
      " 5 5\n"
     ]
    },
    {
     "name": "stdout",
     "output_type": "stream",
     "text": [
      "YES\n",
      "\n",
      "YES\n",
      "\n"
     ]
    }
   ],
   "source": [
    "main()"
   ]
  },
  {
   "cell_type": "code",
   "execution_count": null,
   "metadata": {},
   "outputs": [],
   "source": []
  },
  {
   "cell_type": "code",
   "execution_count": null,
   "metadata": {},
   "outputs": [],
   "source": []
  }
 ],
 "metadata": {
  "kernelspec": {
   "display_name": "Python 3",
   "language": "python",
   "name": "python3"
  },
  "language_info": {
   "codemirror_mode": {
    "name": "ipython",
    "version": 3
   },
   "file_extension": ".py",
   "mimetype": "text/x-python",
   "name": "python",
   "nbconvert_exporter": "python",
   "pygments_lexer": "ipython3",
   "version": "3.7.4"
  }
 },
 "nbformat": 4,
 "nbformat_minor": 4
}
