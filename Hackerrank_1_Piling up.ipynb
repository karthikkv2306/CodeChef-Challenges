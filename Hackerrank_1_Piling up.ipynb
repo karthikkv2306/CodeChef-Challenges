{
 "cells": [
  {
   "cell_type": "markdown",
   "metadata": {},
   "source": [
    "There is a horizontal row of n cubes. The length of each cube is given. You need to create a new vertical pile of cubes. The new pile should follow these directions: if cube-i is on top of cube-j then side-j >= side-i.\n",
    "\n",
    "When stacking the cubes, you can only pick up either the leftmost or the rightmost cube each time. Print \"Yes\" if it is possible to stack the cubes. Otherwise, print \"No\". Do not print the quotation marks.\n",
    "\n",
    "Input Format\n",
    "\n",
    "The first line contains a single integer T, the number of test cases.\n",
    "For each test case, there are 2 lines.\n",
    "The first line of each test case contains n, the number of cubes.\n",
    "The second line contains n space separated integers, denoting the sideLengths of each cube in that order.\n"
   ]
  },
  {
   "cell_type": "code",
   "execution_count": 9,
   "metadata": {},
   "outputs": [
    {
     "name": "stdin",
     "output_type": "stream",
     "text": [
      " 1\n",
      " 3\n",
      " 1 3 2\n"
     ]
    },
    {
     "name": "stdout",
     "output_type": "stream",
     "text": [
      "0\n",
      "2\n",
      "1\n",
      "No \n",
      "\n"
     ]
    }
   ],
   "source": [
    "test_cases = int(input())\n",
    "out = []\n",
    "for i in range(test_cases):\n",
    "    num = int(input())\n",
    "    cubes = list(int(x) for x in input().split())\n",
    "    bottom  = 0\n",
    "    final_index = num-1\n",
    "    first_index = 0\n",
    "    counter = 0\n",
    "    while(True):\n",
    "        if(((cubes[final_index] <= bottom or cubes[first_index] <= bottom) and (final_index >=first_index)) or (bottom ==0)):\n",
    "            if(cubes[final_index] >= cubes[first_index] and (cubes[final_index] <= bottom or bottom == 0)):\n",
    "                bottom = cubes[final_index]\n",
    "                final_index -= 1\n",
    "                counter += 1\n",
    "            else:\n",
    "                bottom = cubes[first_index]\n",
    "                first_index += 1\n",
    "                counter += 1\n",
    "        else:\n",
    "            break\n",
    "    if counter == num:\n",
    "        out.append(\"Yes\")\n",
    "    else:\n",
    "        out.append(\"No\")\n",
    "\n",
    "for i in out:\n",
    "    print(i)\n",
    "            \n",
    "                \n",
    "        "
   ]
  },
  {
   "cell_type": "code",
   "execution_count": null,
   "metadata": {},
   "outputs": [],
   "source": []
  }
 ],
 "metadata": {
  "kernelspec": {
   "display_name": "Python 3",
   "language": "python",
   "name": "python3"
  },
  "language_info": {
   "codemirror_mode": {
    "name": "ipython",
    "version": 3
   },
   "file_extension": ".py",
   "mimetype": "text/x-python",
   "name": "python",
   "nbconvert_exporter": "python",
   "pygments_lexer": "ipython3",
   "version": "3.7.4"
  }
 },
 "nbformat": 4,
 "nbformat_minor": 4
}
