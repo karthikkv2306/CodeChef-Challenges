{
 "cells": [
  {
   "cell_type": "markdown",
   "metadata": {},
   "source": [
    "Chef has N items in his shop (numbered 1 through N); for each valid i, the price of the i-th item is Pi. Since Chef has very loyal customers, all N items are guaranteed to be sold regardless of their price.\n",
    "\n",
    "However, the government introduced a price ceiling K, which means that for each item i such that Pi>K, its price should be reduced from Pi to K.\n",
    "\n",
    "Chef's revenue is the sum of prices of all the items he sells. Find the amount of revenue which Chef loses because of this price ceiling.\n",
    "\n",
    "Input\n",
    "The first line of the input contains a single integer T denoting the number of test cases. The description of T test cases follows.\n",
    "The first line of each test case contains two space-separated integers N and K.\n",
    "The second line contains N space-separated integers P1,P2,…,PN.\n",
    "Output\n",
    "For each test case, print a single line containing one integer ― the amount of lost revenue.\n",
    "\n",
    "Constraints\n",
    "1≤T≤100\n",
    "1≤N≤10,000\n",
    "1≤Pi≤1,000 for each valid i\n",
    "1≤K≤1,000\n",
    "Subtasks\n",
    "Subtask #1 (100 points): original constraints\n",
    "\n",
    "Example Input\n",
    "3\n",
    "5 4\n",
    "10 2 3 4 5\n",
    "7 15\n",
    "1 2 3 4 5 6 7\n",
    "5 5\n",
    "10 9 8 7 6\n",
    "Example Output\n",
    "7\n",
    "0\n",
    "15\n",
    "Explanation\n",
    "Test Case 1: The initial revenue is 10+2+3+4+5=24. Because of the price ceiling, P1 decreases from 10 to 4 and P5 decreases from 5 to 4. The revenue afterwards is 4+2+3+4+4=17 and the lost revenue is 24−17=7.\n",
    "\n",
    "Test Case 2: The initial revenue is 1+2+3+4+5+6+7=28. For each valid i, Pi≤15, so there are no changes, the revenue after introduction of the price ceiling is the same and there is zero lost revenue.\n",
    "\n",
    "Test Case 3: The initial revenue is 10+9+8+7+6=40. Since Pi>5 for each valid i, the prices of all items decrease to 5. The revenue afterwards is 5⋅5=25 and the lost revenue is 40−25=15."
   ]
  },
  {
   "cell_type": "code",
   "execution_count": 2,
   "metadata": {},
   "outputs": [
    {
     "name": "stdin",
     "output_type": "stream",
     "text": [
      " 1\n",
      " 3 50\n",
      " 60 70 80\n"
     ]
    },
    {
     "name": "stdout",
     "output_type": "stream",
     "text": [
      "60\n",
      "\n",
      "\n"
     ]
    }
   ],
   "source": [
    "test_cases = int(input())\n",
    "loss_list = []\n",
    "for i in range(test_cases):\n",
    "    nk_list = [int(x) for x in input().split()]\n",
    "    price_list = [int(x) for x in input().split()]\n",
    "    loss = 0\n",
    "    for j in range(nk_list[0]):\n",
    "        if price_list[j] > nk_list[1]:\n",
    "            loss += (price_list[j]-nk_list[1])\n",
    "    loss_list.append(loss)\n",
    "\n",
    "for i in loss_list:\n",
    "    print(i)\n",
    "    print(\"\\n\")"
   ]
  },
  {
   "cell_type": "code",
   "execution_count": null,
   "metadata": {},
   "outputs": [],
   "source": []
  }
 ],
 "metadata": {
  "kernelspec": {
   "display_name": "Python 3",
   "language": "python",
   "name": "python3"
  },
  "language_info": {
   "codemirror_mode": {
    "name": "ipython",
    "version": 3
   },
   "file_extension": ".py",
   "mimetype": "text/x-python",
   "name": "python",
   "nbconvert_exporter": "python",
   "pygments_lexer": "ipython3",
   "version": "3.7.4"
  }
 },
 "nbformat": 4,
 "nbformat_minor": 4
}
